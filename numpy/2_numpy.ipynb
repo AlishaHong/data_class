{
  "cells": [
    {
      "cell_type": "code",
      "execution_count": 1,
      "metadata": {
        "id": "vRbhAqrPPUSJ"
      },
      "outputs": [],
      "source": [
        "import numpy as np"
      ]
    },
    {
      "cell_type": "markdown",
      "metadata": {
        "id": "5udnDdRaPwEO"
      },
      "source": [
        "## 1. 슬라이싱 (Slicing)"
      ]
    },
    {
      "cell_type": "markdown",
      "metadata": {
        "id": "OsFvaJktP0b_"
      },
      "source": [
        "배열의 부분 선택 (잘라내기)"
      ]
    },
    {
      "cell_type": "code",
      "execution_count": 2,
      "metadata": {
        "colab": {
          "base_uri": "https://localhost:8080/"
        },
        "id": "DJBk0wYj3QZw",
        "outputId": "f1d85413-91fa-4961-8864-d54cd12cdea6"
      },
      "outputs": [
        {
          "data": {
            "text/plain": [
              "[0, 1, 2, 3, 4, 5, 6, 7, 8, 9]"
            ]
          },
          "execution_count": 2,
          "metadata": {},
          "output_type": "execute_result"
        }
      ],
      "source": [
        "# python에서 숫자의 범위 0~9(10미만)\n",
        "temp = range(10)\n",
        "temp\n",
        "list(range(10))"
      ]
    },
    {
      "cell_type": "code",
      "execution_count": null,
      "metadata": {
        "colab": {
          "base_uri": "https://localhost:8080/"
        },
        "id": "1ofDYZw1y-kV",
        "outputId": "340f69db-18ac-4122-a628-8961dfc1dc48"
      },
      "outputs": [
        {
          "data": {
            "text/plain": [
              "array([0, 1, 2, 3, 4, 5, 6, 7, 8, 9])"
            ]
          },
          "execution_count": 4,
          "metadata": {},
          "output_type": "execute_result"
        }
      ],
      "source": [
        "# python에서 range함수를 사용하여 list를 생성할 수 있다.\n",
        "myList = list(range(10))\n",
        "arr0 = np.array(myList)\n",
        "arr0"
      ]
    },
    {
      "cell_type": "code",
      "execution_count": 4,
      "metadata": {
        "colab": {
          "base_uri": "https://localhost:8080/"
        },
        "id": "6keEerG8P_S5",
        "outputId": "0043d342-3bd2-42bd-f6af-5a4bfbaa8b4a"
      },
      "outputs": [
        {
          "data": {
            "text/plain": [
              "array([0, 1, 2, 3, 4, 5, 6, 7, 8, 9])"
            ]
          },
          "execution_count": 4,
          "metadata": {},
          "output_type": "execute_result"
        }
      ],
      "source": [
        "arr = np.array([0, 1, 2, 3, 4, 5, 6, 7, 8, 9])\n",
        "arr"
      ]
    },
    {
      "cell_type": "code",
      "execution_count": null,
      "metadata": {
        "colab": {
          "base_uri": "https://localhost:8080/"
        },
        "id": "h4hJvNn9QFNt",
        "outputId": "de83c934-0c63-48c8-d19a-7335d2f2d432"
      },
      "outputs": [
        {
          "data": {
            "text/plain": [
              "(10,)"
            ]
          },
          "execution_count": 7,
          "metadata": {},
          "output_type": "execute_result"
        }
      ],
      "source": [
        "arr.shape"
      ]
    },
    {
      "cell_type": "code",
      "execution_count": 5,
      "metadata": {
        "colab": {
          "base_uri": "https://localhost:8080/"
        },
        "id": "fhXmc-29y7c-",
        "outputId": "b4a39586-6005-4d98-9735-56c3ee28d363"
      },
      "outputs": [
        {
          "data": {
            "text/plain": [
              "array([0, 1, 2, 3, 4, 5, 6, 7, 8, 9])"
            ]
          },
          "execution_count": 5,
          "metadata": {},
          "output_type": "execute_result"
        }
      ],
      "source": [
        "arr"
      ]
    },
    {
      "cell_type": "markdown",
      "metadata": {
        "id": "Srgo4QWxQXZN"
      },
      "source": [
        "### 1-1. index 지정하여 색인"
      ]
    },
    {
      "cell_type": "markdown",
      "metadata": {
        "id": "G9hLG9ZZRn3P"
      },
      "source": [
        "#### 1차원 array"
      ]
    },
    {
      "cell_type": "code",
      "execution_count": 6,
      "metadata": {
        "id": "9vqX0uhOSKSp"
      },
      "outputs": [],
      "source": [
        "arr = np.array([0, 1, 2, 3, 4, 5, 6, 7, 8, 9])"
      ]
    },
    {
      "cell_type": "code",
      "execution_count": null,
      "metadata": {
        "colab": {
          "base_uri": "https://localhost:8080/"
        },
        "id": "cXZG1g94QV_i",
        "outputId": "f3ecfe6a-4501-4138-d0ac-df23e966bd1d"
      },
      "outputs": [
        {
          "data": {
            "text/plain": [
              "0"
            ]
          },
          "execution_count": 9,
          "metadata": {},
          "output_type": "execute_result"
        }
      ],
      "source": [
        "arr[0]"
      ]
    },
    {
      "cell_type": "code",
      "execution_count": null,
      "metadata": {
        "colab": {
          "base_uri": "https://localhost:8080/"
        },
        "id": "5posuZniQVks",
        "outputId": "402d4b6a-d86d-4267-cf7c-516f7e4c6ae3"
      },
      "outputs": [
        {
          "data": {
            "text/plain": [
              "5"
            ]
          },
          "execution_count": 12,
          "metadata": {
            "tags": []
          },
          "output_type": "execute_result"
        }
      ],
      "source": [
        "arr[5]"
      ]
    },
    {
      "cell_type": "code",
      "execution_count": null,
      "metadata": {
        "colab": {
          "base_uri": "https://localhost:8080/",
          "height": 163
        },
        "id": "8P2cdAGJQf0u",
        "outputId": "ec06860c-de44-4787-be20-0f77bc040406"
      },
      "outputs": [
        {
          "ename": "IndexError",
          "evalue": "index 10 is out of bounds for axis 0 with size 10",
          "output_type": "error",
          "traceback": [
            "\u001b[0;31m---------------------------------------------------------------------------\u001b[0m",
            "\u001b[0;31mIndexError\u001b[0m                                Traceback (most recent call last)",
            "\u001b[0;32m<ipython-input-10-7b09df4a2509>\u001b[0m in \u001b[0;36m<cell line: 2>\u001b[0;34m()\u001b[0m\n\u001b[1;32m      1\u001b[0m \u001b[0;31m# 10번째 리스트는 없다. 따라서 out of bounds에러가 발생\u001b[0m\u001b[0;34m\u001b[0m\u001b[0;34m\u001b[0m\u001b[0m\n\u001b[0;32m----> 2\u001b[0;31m \u001b[0marr\u001b[0m\u001b[0;34m[\u001b[0m\u001b[0;36m10\u001b[0m\u001b[0;34m]\u001b[0m\u001b[0;34m\u001b[0m\u001b[0;34m\u001b[0m\u001b[0m\n\u001b[0m",
            "\u001b[0;31mIndexError\u001b[0m: index 10 is out of bounds for axis 0 with size 10"
          ]
        }
      ],
      "source": [
        "# 10번째 리스트는 없다. 따라서 out of bounds에러가 발생\n",
        "arr[10]"
      ]
    },
    {
      "cell_type": "code",
      "execution_count": null,
      "metadata": {
        "colab": {
          "base_uri": "https://localhost:8080/"
        },
        "id": "rKKihrqcQhMR",
        "outputId": "5ba3f946-291e-4432-f6b5-345d45ce0328"
      },
      "outputs": [
        {
          "data": {
            "text/plain": [
              "9"
            ]
          },
          "execution_count": 11,
          "metadata": {},
          "output_type": "execute_result"
        }
      ],
      "source": [
        "# 그러나 -1은 가능, -1은 뒤에서 첫번째로 이해하자.\n",
        "arr[-1]"
      ]
    },
    {
      "cell_type": "code",
      "execution_count": null,
      "metadata": {
        "colab": {
          "base_uri": "https://localhost:8080/"
        },
        "id": "4Ly74kYZQkQg",
        "outputId": "8c1bfd48-f70f-4cc6-d744-b05bb702dcbd"
      },
      "outputs": [
        {
          "data": {
            "text/plain": [
              "0"
            ]
          },
          "execution_count": 12,
          "metadata": {},
          "output_type": "execute_result"
        }
      ],
      "source": [
        "arr[-10]"
      ]
    },
    {
      "cell_type": "code",
      "execution_count": null,
      "metadata": {
        "colab": {
          "base_uri": "https://localhost:8080/",
          "height": 163
        },
        "id": "nF-KS39MQp_y",
        "outputId": "a49c2a27-9602-46c1-9d85-07dcbf7adcbb"
      },
      "outputs": [
        {
          "ename": "IndexError",
          "evalue": "index -11 is out of bounds for axis 0 with size 10",
          "output_type": "error",
          "traceback": [
            "\u001b[0;31m---------------------------------------------------------------------------\u001b[0m",
            "\u001b[0;31mIndexError\u001b[0m                                Traceback (most recent call last)",
            "\u001b[0;32m<ipython-input-13-03ff1d8153b7>\u001b[0m in \u001b[0;36m<cell line: 2>\u001b[0;34m()\u001b[0m\n\u001b[1;32m      1\u001b[0m \u001b[0;31m# 뒤에서 11번째도 없다. 이것도 out of bounds에러\u001b[0m\u001b[0;34m\u001b[0m\u001b[0;34m\u001b[0m\u001b[0m\n\u001b[0;32m----> 2\u001b[0;31m \u001b[0marr\u001b[0m\u001b[0;34m[\u001b[0m\u001b[0;34m-\u001b[0m\u001b[0;36m11\u001b[0m\u001b[0;34m]\u001b[0m\u001b[0;34m\u001b[0m\u001b[0;34m\u001b[0m\u001b[0m\n\u001b[0m",
            "\u001b[0;31mIndexError\u001b[0m: index -11 is out of bounds for axis 0 with size 10"
          ]
        }
      ],
      "source": [
        "# 뒤에서 11번째도 없다. 이것도 out of bounds에러\n",
        "arr[-11]"
      ]
    },
    {
      "cell_type": "markdown",
      "metadata": {
        "id": "wl0C7KPNRrAI"
      },
      "source": [
        "#### 2차원 array"
      ]
    },
    {
      "cell_type": "code",
      "execution_count": null,
      "metadata": {
        "id": "HsiBC5kxRs6y"
      },
      "outputs": [],
      "source": [
        "arr2d = np.array([[1, 2, 3, 4],\n",
        "                  [5, 6, 7, 8],\n",
        "                  [9, 10, 11, 12]])"
      ]
    },
    {
      "cell_type": "code",
      "execution_count": null,
      "metadata": {
        "colab": {
          "base_uri": "https://localhost:8080/"
        },
        "id": "fuJ8ZLpLRsx_",
        "outputId": "044ce597-ed39-4042-ed3c-0f10df1dc52c"
      },
      "outputs": [
        {
          "data": {
            "text/plain": [
              "(3, 4)"
            ]
          },
          "execution_count": 15,
          "metadata": {},
          "output_type": "execute_result"
        }
      ],
      "source": [
        "arr2d.shape"
      ]
    },
    {
      "cell_type": "markdown",
      "metadata": {
        "id": "YfTsIia7RzrQ"
      },
      "source": [
        "arr2d[행, 열]"
      ]
    },
    {
      "cell_type": "code",
      "execution_count": null,
      "metadata": {
        "colab": {
          "base_uri": "https://localhost:8080/"
        },
        "id": "zO9fguiHRyCR",
        "outputId": "d605020f-1da1-4271-9556-150d61b95ede"
      },
      "outputs": [
        {
          "data": {
            "text/plain": [
              "3"
            ]
          },
          "execution_count": 20,
          "metadata": {
            "tags": []
          },
          "output_type": "execute_result"
        }
      ],
      "source": [
        "arr2d[0, 2]"
      ]
    },
    {
      "cell_type": "code",
      "execution_count": null,
      "metadata": {
        "id": "ByR-Li1C7nfi"
      },
      "outputs": [],
      "source": []
    },
    {
      "cell_type": "code",
      "execution_count": null,
      "metadata": {
        "colab": {
          "base_uri": "https://localhost:8080/"
        },
        "id": "qbo4YbpsRxyO",
        "outputId": "5678d6f3-b60d-4ac0-933a-10d1edecc068"
      },
      "outputs": [
        {
          "data": {
            "text/plain": [
              "10"
            ]
          },
          "execution_count": 21,
          "metadata": {
            "tags": []
          },
          "output_type": "execute_result"
        }
      ],
      "source": [
        "arr2d[2, 1]"
      ]
    },
    {
      "cell_type": "markdown",
      "metadata": {
        "id": "A9JfdvmOQshs"
      },
      "source": [
        "### 1-2. 범위 색인"
      ]
    },
    {
      "cell_type": "markdown",
      "metadata": {
        "id": "HofWSyh-SCgA"
      },
      "source": [
        "#### 1차원"
      ]
    },
    {
      "cell_type": "markdown",
      "metadata": {
        "id": "6EGyB84QQw8j"
      },
      "source": [
        "index 1**이상** 끝까지"
      ]
    },
    {
      "cell_type": "code",
      "execution_count": null,
      "metadata": {
        "colab": {
          "base_uri": "https://localhost:8080/"
        },
        "id": "Yp9guIXUk45v",
        "outputId": "3120601e-499c-416b-857a-de93f2641444"
      },
      "outputs": [
        {
          "data": {
            "text/plain": [
              "array([0, 1, 2, 3, 4, 5, 6, 7, 8, 9])"
            ]
          },
          "execution_count": 22,
          "metadata": {
            "tags": []
          },
          "output_type": "execute_result"
        }
      ],
      "source": [
        "arr"
      ]
    },
    {
      "cell_type": "code",
      "execution_count": null,
      "metadata": {
        "colab": {
          "base_uri": "https://localhost:8080/"
        },
        "id": "ooPQcNovQvS-",
        "outputId": "7f022379-c8a5-4a1b-a301-1db18a933203"
      },
      "outputs": [
        {
          "data": {
            "text/plain": [
              "array([1, 2, 3, 4, 5, 6, 7, 8, 9])"
            ]
          },
          "execution_count": 23,
          "metadata": {
            "tags": []
          },
          "output_type": "execute_result"
        }
      ],
      "source": [
        "arr[1:]"
      ]
    },
    {
      "cell_type": "markdown",
      "metadata": {
        "id": "oK-Q2U4kQz2w"
      },
      "source": [
        "index 5 **미만** 까지"
      ]
    },
    {
      "cell_type": "code",
      "execution_count": null,
      "metadata": {
        "colab": {
          "base_uri": "https://localhost:8080/"
        },
        "id": "XFqkQSkKRIl_",
        "outputId": "b7b9fbec-92aa-4870-8fb9-e4ff3a775304"
      },
      "outputs": [
        {
          "data": {
            "text/plain": [
              "array([0, 1, 2, 3, 4])"
            ]
          },
          "execution_count": 24,
          "metadata": {
            "tags": []
          },
          "output_type": "execute_result"
        }
      ],
      "source": [
        "arr[:5]"
      ]
    },
    {
      "cell_type": "markdown",
      "metadata": {
        "id": "qZbdF9riRIh5"
      },
      "source": [
        "index 1이상 5미만"
      ]
    },
    {
      "cell_type": "code",
      "execution_count": null,
      "metadata": {
        "colab": {
          "base_uri": "https://localhost:8080/"
        },
        "id": "0txKbZfGRIdD",
        "outputId": "e33d297f-87b1-48ae-d190-c2b67fd066f4"
      },
      "outputs": [
        {
          "data": {
            "text/plain": [
              "array([1, 2, 3, 4])"
            ]
          },
          "execution_count": 25,
          "metadata": {
            "tags": []
          },
          "output_type": "execute_result"
        }
      ],
      "source": [
        "arr[1:5]"
      ]
    },
    {
      "cell_type": "code",
      "execution_count": null,
      "metadata": {
        "colab": {
          "base_uri": "https://localhost:8080/"
        },
        "id": "HCb6pWxrRIWW",
        "outputId": "b48d289d-764c-4f44-fbba-6395ca5d705b"
      },
      "outputs": [
        {
          "data": {
            "text/plain": [
              "array([0, 1, 2, 3, 4, 5, 6, 7, 8])"
            ]
          },
          "execution_count": 26,
          "metadata": {
            "tags": []
          },
          "output_type": "execute_result"
        }
      ],
      "source": [
        "arr[:-1]"
      ]
    },
    {
      "cell_type": "markdown",
      "metadata": {
        "id": "I6JtSZjoSEn4"
      },
      "source": [
        "#### 2차원"
      ]
    },
    {
      "cell_type": "code",
      "execution_count": null,
      "metadata": {
        "id": "9lf5XlZSSGOO"
      },
      "outputs": [],
      "source": [
        "arr2d = np.array([[1, 2, 3, 4],\n",
        "                  [5, 6, 7, 8],\n",
        "                  [9, 10, 11, 12]])"
      ]
    },
    {
      "cell_type": "markdown",
      "metadata": {
        "id": "HR_JODwpSWKq"
      },
      "source": [
        "row(행)을 모두 가져오려는 경우"
      ]
    },
    {
      "cell_type": "code",
      "execution_count": null,
      "metadata": {
        "colab": {
          "base_uri": "https://localhost:8080/"
        },
        "id": "iXoayqA8SMFc",
        "outputId": "105a9a16-40ae-4d9d-f5a9-26de77111da1"
      },
      "outputs": [
        {
          "data": {
            "text/plain": [
              "array([1, 2, 3, 4])"
            ]
          },
          "execution_count": 28,
          "metadata": {
            "tags": []
          },
          "output_type": "execute_result"
        }
      ],
      "source": [
        "# 0행, 모든 열\n",
        "arr2d[0, :]"
      ]
    },
    {
      "cell_type": "code",
      "execution_count": null,
      "metadata": {
        "colab": {
          "base_uri": "https://localhost:8080/"
        },
        "id": "9P8RTVU6sUCl",
        "outputId": "887c34f2-a5bb-41a5-ecb3-5bf721e18391"
      },
      "outputs": [
        {
          "data": {
            "text/plain": [
              "(4,)"
            ]
          },
          "execution_count": 29,
          "metadata": {
            "tags": []
          },
          "output_type": "execute_result"
        }
      ],
      "source": [
        "arr2d[0, :].shape"
      ]
    },
    {
      "cell_type": "markdown",
      "metadata": {
        "id": "0CjCWzNhSZjq"
      },
      "source": [
        "모든 행의 2열 가져오려는 경우"
      ]
    },
    {
      "cell_type": "code",
      "execution_count": null,
      "metadata": {
        "colab": {
          "base_uri": "https://localhost:8080/"
        },
        "id": "2I_If7CjSS7O",
        "outputId": "d8594c10-f81f-4502-b848-ee577256f886"
      },
      "outputs": [
        {
          "data": {
            "text/plain": [
              "array([ 3,  7, 11])"
            ]
          },
          "execution_count": 8,
          "metadata": {},
          "output_type": "execute_result"
        }
      ],
      "source": [
        "arr2d[:, 2]"
      ]
    },
    {
      "cell_type": "markdown",
      "metadata": {
        "id": "p4s8f42xSL94"
      },
      "source": [
        "부분 적으로 가져오려는 경우"
      ]
    },
    {
      "cell_type": "code",
      "execution_count": null,
      "metadata": {
        "colab": {
          "base_uri": "https://localhost:8080/"
        },
        "id": "SEE-HpBTSfv5",
        "outputId": "fa6464ad-aab3-4f6e-9abb-8be7061619e9"
      },
      "outputs": [
        {
          "data": {
            "text/plain": [
              "array([[1, 2, 3, 4],\n",
              "       [5, 6, 7, 8]])"
            ]
          },
          "execution_count": 9,
          "metadata": {},
          "output_type": "execute_result"
        }
      ],
      "source": [
        "# 0,1행 모든열\n",
        "arr2d[:2, :]"
      ]
    },
    {
      "cell_type": "code",
      "execution_count": null,
      "metadata": {
        "colab": {
          "base_uri": "https://localhost:8080/"
        },
        "id": "5D7d5ozKSiXv",
        "outputId": "a40b0da8-7dbd-4b50-f40d-c19d314e4310"
      },
      "outputs": [
        {
          "data": {
            "text/plain": [
              "array([[3, 4],\n",
              "       [7, 8]])"
            ]
          },
          "execution_count": 10,
          "metadata": {},
          "output_type": "execute_result"
        }
      ],
      "source": [
        "# 0,1행 2열부터 마지막열\n",
        "arr2d[:2, 2:]"
      ]
    },
    {
      "cell_type": "code",
      "execution_count": null,
      "metadata": {
        "id": "QatNmv1eVjkH"
      },
      "outputs": [],
      "source": []
    },
    {
      "cell_type": "markdown",
      "metadata": {
        "id": "6wEBe7tbULky"
      },
      "source": [
        "## 2. Fancy 인덱싱"
      ]
    },
    {
      "cell_type": "markdown",
      "metadata": {
        "id": "ryx7onUgU7VT"
      },
      "source": [
        "fancy 인덱싱은 범위가 아닌 **특정 index의 집합의 값을 선택하여 추출**하고 싶을 때 활용합니다."
      ]
    },
    {
      "cell_type": "code",
      "execution_count": null,
      "metadata": {
        "id": "H-eFtxCRULUn"
      },
      "outputs": [],
      "source": [
        "arr = np.array([10, 23, 2, 7, 90, 65, 32, 66, 70])"
      ]
    },
    {
      "cell_type": "markdown",
      "metadata": {
        "id": "eUV5porzU5FP"
      },
      "source": [
        "반드시 **[추출하고 싶은 인덱스]** 꺾쇠 괄호로 묶어 주세요"
      ]
    },
    {
      "cell_type": "code",
      "execution_count": null,
      "metadata": {
        "id": "qPfJ5stMmNIB"
      },
      "outputs": [],
      "source": [
        "# 추출하고 싶은 인덱스를 리스트로 생성\n",
        "idx = [1, 3, 5]"
      ]
    },
    {
      "cell_type": "code",
      "execution_count": null,
      "metadata": {
        "colab": {
          "base_uri": "https://localhost:8080/"
        },
        "id": "FboAri6JULM6",
        "outputId": "cd403164-5fb5-4b2d-edfb-18615167fb26"
      },
      "outputs": [
        {
          "data": {
            "text/plain": [
              "array([23,  7, 65])"
            ]
          },
          "execution_count": 35,
          "metadata": {
            "tags": []
          },
          "output_type": "execute_result"
        }
      ],
      "source": [
        "arr[idx]"
      ]
    },
    {
      "cell_type": "markdown",
      "metadata": {
        "id": "4nYgmmgDU4eu"
      },
      "source": [
        "변수에 지정 후 추출도 가능합니다."
      ]
    },
    {
      "cell_type": "markdown",
      "metadata": {
        "id": "hx83f87VVX3r"
      },
      "source": [
        "### 2-2. 2차원 array"
      ]
    },
    {
      "cell_type": "code",
      "execution_count": null,
      "metadata": {
        "id": "fxCICJpcVYC_"
      },
      "outputs": [],
      "source": [
        "arr2d = np.array([[1, 2, 3, 4],\n",
        "                  [5, 6, 7, 8],\n",
        "                  [9, 10, 11, 12]])"
      ]
    },
    {
      "cell_type": "code",
      "execution_count": null,
      "metadata": {
        "colab": {
          "base_uri": "https://localhost:8080/"
        },
        "id": "hDmBdvm1V6qF",
        "outputId": "ce7b668f-82e7-41ad-98e7-db907d9eba3f"
      },
      "outputs": [
        {
          "data": {
            "text/plain": [
              "array([[1, 2, 3, 4],\n",
              "       [5, 6, 7, 8]])"
            ]
          },
          "execution_count": 39,
          "metadata": {
            "tags": []
          },
          "output_type": "execute_result"
        }
      ],
      "source": [
        "arr2d[[0, 1], :]"
      ]
    },
    {
      "cell_type": "code",
      "execution_count": null,
      "metadata": {
        "colab": {
          "base_uri": "https://localhost:8080/"
        },
        "id": "AIqPAa6sVyp7",
        "outputId": "47b9cd1a-31a9-46bd-b8c0-20510a3dc563"
      },
      "outputs": [
        {
          "data": {
            "text/plain": [
              "array([[ 2,  3,  4],\n",
              "       [ 6,  7,  8],\n",
              "       [10, 11, 12]])"
            ]
          },
          "execution_count": 40,
          "metadata": {
            "tags": []
          },
          "output_type": "execute_result"
        }
      ],
      "source": [
        "arr2d[:, [1, 2, 3]]"
      ]
    },
    {
      "cell_type": "code",
      "execution_count": null,
      "metadata": {
        "id": "BSoSPFQxVy_i"
      },
      "outputs": [],
      "source": []
    },
    {
      "cell_type": "code",
      "execution_count": null,
      "metadata": {
        "id": "Lc-6SCH5VzCe"
      },
      "outputs": [],
      "source": []
    },
    {
      "cell_type": "markdown",
      "metadata": {
        "id": "0jT1D1U9RIKy"
      },
      "source": [
        "## 3. Boolean 인덱싱"
      ]
    },
    {
      "cell_type": "markdown",
      "metadata": {
        "id": "L65N9DO0Rg-c"
      },
      "source": [
        "조건 필터링을 통하여 Boolean 값을 이용한 색인"
      ]
    },
    {
      "cell_type": "code",
      "execution_count": null,
      "metadata": {
        "id": "ThYLT1u3E_Q_"
      },
      "outputs": [],
      "source": [
        "arr = np.array([1, 2, 3, 4, 5, 6, 7])"
      ]
    },
    {
      "cell_type": "code",
      "execution_count": null,
      "metadata": {
        "id": "CwIVSLtaQOGq"
      },
      "outputs": [],
      "source": [
        "arr2d = np.array([[1, 2, 3, 4],\n",
        "                  [5, 6, 7, 8],\n",
        "                  [9, 10, 11, 12]])"
      ]
    },
    {
      "cell_type": "markdown",
      "metadata": {
        "id": "9h4s_JOFEzqB"
      },
      "source": [
        "### 3-1. True와 False 값으로 색인하기"
      ]
    },
    {
      "cell_type": "code",
      "execution_count": null,
      "metadata": {
        "id": "eyK_PJjJE4xf"
      },
      "outputs": [],
      "source": [
        "myTrueFalse = [True, False, True]"
      ]
    },
    {
      "cell_type": "code",
      "execution_count": null,
      "metadata": {
        "colab": {
          "base_uri": "https://localhost:8080/",
          "height": 176
        },
        "id": "caCBOFDXFFM2",
        "outputId": "03f18f3f-3442-4fb3-b6e9-94743709fedd"
      },
      "outputs": [
        {
          "ename": "IndexError",
          "evalue": "ignored",
          "output_type": "error",
          "traceback": [
            "\u001b[0;31m---------------------------------------------------------------------------\u001b[0m",
            "\u001b[0;31mIndexError\u001b[0m                                Traceback (most recent call last)",
            "\u001b[0;32m<ipython-input-44-9c52b39d81ae>\u001b[0m in \u001b[0;36m<module>\u001b[0;34m()\u001b[0m\n\u001b[0;32m----> 1\u001b[0;31m \u001b[0marr\u001b[0m\u001b[0;34m[\u001b[0m\u001b[0mmyTrueFalse\u001b[0m\u001b[0;34m]\u001b[0m\u001b[0;34m\u001b[0m\u001b[0;34m\u001b[0m\u001b[0m\n\u001b[0m",
            "\u001b[0;31mIndexError\u001b[0m: boolean index did not match indexed array along dimension 0; dimension is 7 but corresponding boolean dimension is 3"
          ]
        }
      ],
      "source": [
        "# arr의 갯수만큼 boolean index의 리스트를 생성해줘야한다.\n",
        "arr[myTrueFalse]"
      ]
    },
    {
      "cell_type": "code",
      "execution_count": null,
      "metadata": {
        "colab": {
          "base_uri": "https://localhost:8080/"
        },
        "id": "R2dlfeYCQ7oS",
        "outputId": "ac549549-3596-42cf-ff08-c809fb8c0c46"
      },
      "outputs": [
        {
          "data": {
            "text/plain": [
              "array([False, False,  True,  True,  True,  True,  True])"
            ]
          },
          "execution_count": 19,
          "metadata": {},
          "output_type": "execute_result"
        }
      ],
      "source": [
        "arr>2"
      ]
    },
    {
      "cell_type": "code",
      "execution_count": null,
      "metadata": {
        "colab": {
          "base_uri": "https://localhost:8080/"
        },
        "id": "QSO9Amn-Q1Nr",
        "outputId": "48018ae7-fe65-4330-a89a-fbf07dc555ba"
      },
      "outputs": [
        {
          "data": {
            "text/plain": [
              "array([3, 4, 5, 6, 7])"
            ]
          },
          "execution_count": 20,
          "metadata": {},
          "output_type": "execute_result"
        }
      ],
      "source": [
        "arr[arr>2]"
      ]
    },
    {
      "cell_type": "code",
      "execution_count": null,
      "metadata": {
        "id": "tGSkFFUXFHF2"
      },
      "outputs": [],
      "source": [
        "myTrueFalse = [True, False, True, False, True, False, True]"
      ]
    },
    {
      "cell_type": "code",
      "execution_count": null,
      "metadata": {
        "colab": {
          "base_uri": "https://localhost:8080/"
        },
        "id": "QuYWbMLlFMK6",
        "outputId": "d99e5338-7471-44d6-c5c3-574c445b8827"
      },
      "outputs": [
        {
          "data": {
            "text/plain": [
              "array([1, 3, 5, 7])"
            ]
          },
          "execution_count": 46,
          "metadata": {
            "tags": []
          },
          "output_type": "execute_result"
        }
      ],
      "source": [
        "arr[myTrueFalse]"
      ]
    },
    {
      "cell_type": "code",
      "execution_count": null,
      "metadata": {
        "id": "Vxlbtx77FO3_"
      },
      "outputs": [],
      "source": []
    },
    {
      "cell_type": "markdown",
      "metadata": {
        "id": "EDeEZJtLS6NB"
      },
      "source": [
        "### 3-2. 조건필터"
      ]
    },
    {
      "cell_type": "markdown",
      "metadata": {
        "id": "X5XV9DqwTC8F"
      },
      "source": [
        "조건 연산자를 활용하여 필터를 생성할 수 있습니다"
      ]
    },
    {
      "cell_type": "code",
      "execution_count": null,
      "metadata": {
        "colab": {
          "base_uri": "https://localhost:8080/"
        },
        "id": "oHIkQsBmSxTv",
        "outputId": "b45f82e3-78cc-4968-c9f8-3ca6859ab79c"
      },
      "outputs": [
        {
          "data": {
            "text/plain": [
              "array([[False, False,  True,  True],\n",
              "       [ True,  True,  True,  True],\n",
              "       [ True,  True,  True,  True]])"
            ]
          },
          "execution_count": 12,
          "metadata": {},
          "output_type": "execute_result"
        }
      ],
      "source": [
        "# result에는 boolean index배열이 저장된다.\n",
        "result = arr2d > 2"
      ]
    },
    {
      "cell_type": "markdown",
      "metadata": {
        "id": "viTCv7dmS22G"
      },
      "source": [
        "필터를 활용하여 필터에 True 조건만 색인 합니다."
      ]
    },
    {
      "cell_type": "markdown",
      "metadata": {
        "id": "MH_2u6F5TPZP"
      },
      "source": [
        "이럴 때 꺾쇠 괄호로 한 번 더 묶어만 주면 됩니다. (꺾쇠 괄호 안에 조건문 삽입)\n",
        "\n",
        "arr2d[**조건필터**]"
      ]
    },
    {
      "cell_type": "code",
      "execution_count": 9,
      "metadata": {
        "id": "y0EAI6j5neQf"
      },
      "outputs": [],
      "source": [
        "arr2d = np.array([[1, 2, 3, 4],\n",
        "                  [5, 6, 7, 8],\n",
        "                  [9, 10, 11, 12]])"
      ]
    },
    {
      "cell_type": "code",
      "execution_count": null,
      "metadata": {
        "colab": {
          "base_uri": "https://localhost:8080/"
        },
        "id": "BfsZ4aNUTAxI",
        "outputId": "6aef6921-3d54-4bd0-c67d-5f4cd2042c46"
      },
      "outputs": [
        {
          "data": {
            "text/plain": [
              "array([ 3,  4,  5,  6,  7,  8,  9, 10, 11, 12])"
            ]
          },
          "execution_count": 14,
          "metadata": {},
          "output_type": "execute_result"
        }
      ],
      "source": [
        "arr2d[ arr2d > 2 ]"
      ]
    },
    {
      "cell_type": "code",
      "execution_count": null,
      "metadata": {
        "colab": {
          "base_uri": "https://localhost:8080/"
        },
        "id": "O1AxvNb9TNRV",
        "outputId": "17f248d7-c562-406d-dd3d-1868fd83ca86"
      },
      "outputs": [
        {
          "data": {
            "text/plain": [
              "array([1, 2, 3, 4])"
            ]
          },
          "execution_count": 15,
          "metadata": {},
          "output_type": "execute_result"
        }
      ],
      "source": [
        "arr2d[ arr2d < 5 ]"
      ]
    },
    {
      "cell_type": "code",
      "execution_count": 19,
      "metadata": {},
      "outputs": [
        {
          "data": {
            "text/plain": [
              "array([[False, False,  True,  True],\n",
              "       [False, False, False, False],\n",
              "       [False, False, False, False]])"
            ]
          },
          "execution_count": 19,
          "metadata": {},
          "output_type": "execute_result"
        }
      ],
      "source": [
        "result = (arr2d > 2) & (arr2d < 5)\n",
        "result"
      ]
    },
    {
      "cell_type": "code",
      "execution_count": 17,
      "metadata": {
        "id": "j72bNPGZTkSi"
      },
      "outputs": [
        {
          "data": {
            "text/plain": [
              "array([3, 4])"
            ]
          },
          "execution_count": 17,
          "metadata": {},
          "output_type": "execute_result"
        }
      ],
      "source": [
        "arr2d[(arr2d > 2)& (arr2d < 5)]"
      ]
    }
  ],
  "metadata": {
    "colab": {
      "collapsed_sections": [
        "HofWSyh-SCgA",
        "I6JtSZjoSEn4"
      ],
      "provenance": []
    },
    "kernelspec": {
      "display_name": "Python 3",
      "name": "python3"
    },
    "language_info": {
      "codemirror_mode": {
        "name": "ipython",
        "version": 3
      },
      "file_extension": ".py",
      "mimetype": "text/x-python",
      "name": "python",
      "nbconvert_exporter": "python",
      "pygments_lexer": "ipython3",
      "version": "3.10.14"
    }
  },
  "nbformat": 4,
  "nbformat_minor": 0
}
