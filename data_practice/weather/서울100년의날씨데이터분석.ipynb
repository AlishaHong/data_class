{
 "cells": [
  {
   "cell_type": "code",
   "execution_count": 44,
   "metadata": {},
   "outputs": [],
   "source": [
    "# 데이터 파일을 가져오기 위해 구글 드라이브 마운트(코랩에서)\n",
    "# from google.colab import drive\n",
    "\n",
    "# 한글 폰트 설치와 설정\n",
    "\n",
    "import platform\n",
    "from matplotlib import font_manager, rc\n",
    "\n",
    "#플랫폼 패키지는 현재 내 컴퓨터의 os가 무엇인지 코드로 확인하는 패키지\n",
    "#맥과 윈도우에서 다 사용할 수 있는 코드\n",
    "#윈도우용 코드만 가져다 써도됨\n",
    "if platform.system() == 'Darwin':   #macOS\n",
    "    rc('font', family='AppleGothic')\n",
    "elif platform.system() == 'Windows':   #WINDOWS\n",
    "    path = \"c:/Windows/Fonts/malgun.ttf\"\n",
    "    font_name = font_manager.FontProperties(fname=path).get_name()\n",
    "    rc('font', family=font_name)\n",
    "else:   #LINUX\n",
    "    print('Unknown system... sorry~~~~') \n",
    "    \n",
    "\n",
    "import matplotlib.pyplot as plt\n",
    "plt.rc('font', family='Malgun Gothic') "
   ]
  },
  {
   "cell_type": "code",
   "execution_count": 47,
   "metadata": {},
   "outputs": [
    {
     "data": {
      "text/plain": [
       "(6, 6)"
      ]
     },
     "execution_count": 47,
     "metadata": {},
     "output_type": "execute_result"
    }
   ],
   "source": [
    "#경로가 길다면 \n",
    "# import os\n",
    "# dataPath = 'C:\\Users\\user\\DataAnalysis\\data_practice\\weather\\'\n",
    "# csvPath = os.path.join(dataPath,'seoul.csv')\n",
    "\n",
    "import pandas as pd\n",
    "\n",
    "seoul = pd.read_csv('seoul.csv', encoding='cp949')\n",
    "seoul2 = pd.read_csv('seoul2.csv', encoding='cp949')\n",
    "seoul3 = pd.read_csv('seoul3.csv', encoding='cp949')\n",
    "\n",
    "seoul.shape     #39926,5\n",
    "seoul2.shape    #2323.6\n",
    "seoul3.shape    #6,6"
   ]
  },
  {
   "cell_type": "code",
   "execution_count": 48,
   "metadata": {},
   "outputs": [
    {
     "data": {
      "text/html": [
       "<div>\n",
       "<style scoped>\n",
       "    .dataframe tbody tr th:only-of-type {\n",
       "        vertical-align: middle;\n",
       "    }\n",
       "\n",
       "    .dataframe tbody tr th {\n",
       "        vertical-align: top;\n",
       "    }\n",
       "\n",
       "    .dataframe thead th {\n",
       "        text-align: right;\n",
       "    }\n",
       "</style>\n",
       "<table border=\"1\" class=\"dataframe\">\n",
       "  <thead>\n",
       "    <tr style=\"text-align: right;\">\n",
       "      <th></th>\n",
       "      <th>날짜</th>\n",
       "      <th>지점</th>\n",
       "      <th>평균기온(℃)</th>\n",
       "      <th>최저기온(℃)</th>\n",
       "      <th>최고기온(℃)</th>\n",
       "      <th>지점명</th>\n",
       "    </tr>\n",
       "  </thead>\n",
       "  <tbody>\n",
       "    <tr>\n",
       "      <th>0</th>\n",
       "      <td>1907-10-01</td>\n",
       "      <td>108</td>\n",
       "      <td>13.5</td>\n",
       "      <td>7.9</td>\n",
       "      <td>20.7</td>\n",
       "      <td>서울</td>\n",
       "    </tr>\n",
       "    <tr>\n",
       "      <th>1</th>\n",
       "      <td>1907-10-02</td>\n",
       "      <td>108</td>\n",
       "      <td>16.2</td>\n",
       "      <td>7.9</td>\n",
       "      <td>22.0</td>\n",
       "      <td>서울</td>\n",
       "    </tr>\n",
       "    <tr>\n",
       "      <th>2</th>\n",
       "      <td>1907-10-03</td>\n",
       "      <td>108</td>\n",
       "      <td>16.2</td>\n",
       "      <td>13.1</td>\n",
       "      <td>21.3</td>\n",
       "      <td>서울</td>\n",
       "    </tr>\n",
       "    <tr>\n",
       "      <th>3</th>\n",
       "      <td>1907-10-04</td>\n",
       "      <td>108</td>\n",
       "      <td>16.5</td>\n",
       "      <td>11.2</td>\n",
       "      <td>22.0</td>\n",
       "      <td>서울</td>\n",
       "    </tr>\n",
       "    <tr>\n",
       "      <th>4</th>\n",
       "      <td>1907-10-05</td>\n",
       "      <td>108</td>\n",
       "      <td>17.6</td>\n",
       "      <td>10.9</td>\n",
       "      <td>25.4</td>\n",
       "      <td>서울</td>\n",
       "    </tr>\n",
       "    <tr>\n",
       "      <th>...</th>\n",
       "      <td>...</td>\n",
       "      <td>...</td>\n",
       "      <td>...</td>\n",
       "      <td>...</td>\n",
       "      <td>...</td>\n",
       "      <td>...</td>\n",
       "    </tr>\n",
       "    <tr>\n",
       "      <th>39921</th>\n",
       "      <td>2018-03-24</td>\n",
       "      <td>108</td>\n",
       "      <td>7.6</td>\n",
       "      <td>4.0</td>\n",
       "      <td>13.1</td>\n",
       "      <td>서울</td>\n",
       "    </tr>\n",
       "    <tr>\n",
       "      <th>39922</th>\n",
       "      <td>2018-03-25</td>\n",
       "      <td>108</td>\n",
       "      <td>9.6</td>\n",
       "      <td>4.6</td>\n",
       "      <td>16.9</td>\n",
       "      <td>서울</td>\n",
       "    </tr>\n",
       "    <tr>\n",
       "      <th>39923</th>\n",
       "      <td>2018-03-26</td>\n",
       "      <td>108</td>\n",
       "      <td>11.0</td>\n",
       "      <td>5.3</td>\n",
       "      <td>18.1</td>\n",
       "      <td>서울</td>\n",
       "    </tr>\n",
       "    <tr>\n",
       "      <th>39924</th>\n",
       "      <td>2018-03-27</td>\n",
       "      <td>108</td>\n",
       "      <td>13.3</td>\n",
       "      <td>7.7</td>\n",
       "      <td>20.0</td>\n",
       "      <td>서울</td>\n",
       "    </tr>\n",
       "    <tr>\n",
       "      <th>39925</th>\n",
       "      <td>2018-03-28</td>\n",
       "      <td>108</td>\n",
       "      <td>14.0</td>\n",
       "      <td>9.4</td>\n",
       "      <td>19.0</td>\n",
       "      <td>서울</td>\n",
       "    </tr>\n",
       "  </tbody>\n",
       "</table>\n",
       "<p>39926 rows × 6 columns</p>\n",
       "</div>"
      ],
      "text/plain": [
       "               날짜   지점  평균기온(℃)  최저기온(℃)  최고기온(℃) 지점명\n",
       "0      1907-10-01  108     13.5      7.9     20.7  서울\n",
       "1      1907-10-02  108     16.2      7.9     22.0  서울\n",
       "2      1907-10-03  108     16.2     13.1     21.3  서울\n",
       "3      1907-10-04  108     16.5     11.2     22.0  서울\n",
       "4      1907-10-05  108     17.6     10.9     25.4  서울\n",
       "...           ...  ...      ...      ...      ...  ..\n",
       "39921  2018-03-24  108      7.6      4.0     13.1  서울\n",
       "39922  2018-03-25  108      9.6      4.6     16.9  서울\n",
       "39923  2018-03-26  108     11.0      5.3     18.1  서울\n",
       "39924  2018-03-27  108     13.3      7.7     20.0  서울\n",
       "39925  2018-03-28  108     14.0      9.4     19.0  서울\n",
       "\n",
       "[39926 rows x 6 columns]"
      ]
     },
     "execution_count": 48,
     "metadata": {},
     "output_type": "execute_result"
    }
   ],
   "source": [
    "seoul.columns\n",
    "seoul['지점명'] = '서울'\n",
    "seoul\n"
   ]
  },
  {
   "cell_type": "code",
   "execution_count": null,
   "metadata": {},
   "outputs": [],
   "source": []
  },
  {
   "cell_type": "code",
   "execution_count": 49,
   "metadata": {},
   "outputs": [
    {
     "data": {
      "text/html": [
       "<div>\n",
       "<style scoped>\n",
       "    .dataframe tbody tr th:only-of-type {\n",
       "        vertical-align: middle;\n",
       "    }\n",
       "\n",
       "    .dataframe tbody tr th {\n",
       "        vertical-align: top;\n",
       "    }\n",
       "\n",
       "    .dataframe thead th {\n",
       "        text-align: right;\n",
       "    }\n",
       "</style>\n",
       "<table border=\"1\" class=\"dataframe\">\n",
       "  <thead>\n",
       "    <tr style=\"text-align: right;\">\n",
       "      <th></th>\n",
       "      <th>날짜</th>\n",
       "      <th>지점</th>\n",
       "      <th>평균기온(℃)</th>\n",
       "      <th>최저기온(℃)</th>\n",
       "      <th>최고기온(℃)</th>\n",
       "      <th>지점명</th>\n",
       "    </tr>\n",
       "  </thead>\n",
       "  <tbody>\n",
       "    <tr>\n",
       "      <th>39921</th>\n",
       "      <td>2018-03-24</td>\n",
       "      <td>108</td>\n",
       "      <td>7.6</td>\n",
       "      <td>4.0</td>\n",
       "      <td>13.1</td>\n",
       "      <td>서울</td>\n",
       "    </tr>\n",
       "    <tr>\n",
       "      <th>39922</th>\n",
       "      <td>2018-03-25</td>\n",
       "      <td>108</td>\n",
       "      <td>9.6</td>\n",
       "      <td>4.6</td>\n",
       "      <td>16.9</td>\n",
       "      <td>서울</td>\n",
       "    </tr>\n",
       "    <tr>\n",
       "      <th>39923</th>\n",
       "      <td>2018-03-26</td>\n",
       "      <td>108</td>\n",
       "      <td>11.0</td>\n",
       "      <td>5.3</td>\n",
       "      <td>18.1</td>\n",
       "      <td>서울</td>\n",
       "    </tr>\n",
       "    <tr>\n",
       "      <th>39924</th>\n",
       "      <td>2018-03-27</td>\n",
       "      <td>108</td>\n",
       "      <td>13.3</td>\n",
       "      <td>7.7</td>\n",
       "      <td>20.0</td>\n",
       "      <td>서울</td>\n",
       "    </tr>\n",
       "    <tr>\n",
       "      <th>39925</th>\n",
       "      <td>2018-03-28</td>\n",
       "      <td>108</td>\n",
       "      <td>14.0</td>\n",
       "      <td>9.4</td>\n",
       "      <td>19.0</td>\n",
       "      <td>서울</td>\n",
       "    </tr>\n",
       "  </tbody>\n",
       "</table>\n",
       "</div>"
      ],
      "text/plain": [
       "               날짜   지점  평균기온(℃)  최저기온(℃)  최고기온(℃) 지점명\n",
       "39921  2018-03-24  108      7.6      4.0     13.1  서울\n",
       "39922  2018-03-25  108      9.6      4.6     16.9  서울\n",
       "39923  2018-03-26  108     11.0      5.3     18.1  서울\n",
       "39924  2018-03-27  108     13.3      7.7     20.0  서울\n",
       "39925  2018-03-28  108     14.0      9.4     19.0  서울"
      ]
     },
     "execution_count": 49,
     "metadata": {},
     "output_type": "execute_result"
    }
   ],
   "source": [
    "\n",
    "\n",
    "seoul.tail()"
   ]
  },
  {
   "cell_type": "code",
   "execution_count": 52,
   "metadata": {},
   "outputs": [],
   "source": [
    "seoul = seoul[['지점','지점명','날짜','평균기온(℃)', '최저기온(℃)', '최고기온(℃)']]"
   ]
  },
  {
   "cell_type": "code",
   "execution_count": 63,
   "metadata": {},
   "outputs": [
    {
     "name": "stdout",
     "output_type": "stream",
     "text": [
      "        지점 지점명          일시  평균기온(℃)  최저기온(℃)  최고기온(℃)\n",
      "0      108  서울  1907-10-01     13.5      7.9     20.7\n",
      "1      108  서울  1907-10-02     16.2      7.9     22.0\n",
      "2      108  서울  1907-10-03     16.2     13.1     21.3\n",
      "3      108  서울  1907-10-04     16.5     11.2     22.0\n",
      "4      108  서울  1907-10-05     17.6     10.9     25.4\n",
      "...    ...  ..         ...      ...      ...      ...\n",
      "39921  108  서울  2018-03-24      7.6      4.0     13.1\n",
      "39922  108  서울  2018-03-25      9.6      4.6     16.9\n",
      "39923  108  서울  2018-03-26     11.0      5.3     18.1\n",
      "39924  108  서울  2018-03-27     13.3      7.7     20.0\n",
      "39925  108  서울  2018-03-28     14.0      9.4     19.0\n",
      "\n",
      "[39926 rows x 6 columns]\n"
     ]
    },
    {
     "data": {
      "text/html": [
       "<div>\n",
       "<style scoped>\n",
       "    .dataframe tbody tr th:only-of-type {\n",
       "        vertical-align: middle;\n",
       "    }\n",
       "\n",
       "    .dataframe tbody tr th {\n",
       "        vertical-align: top;\n",
       "    }\n",
       "\n",
       "    .dataframe thead th {\n",
       "        text-align: right;\n",
       "    }\n",
       "</style>\n",
       "<table border=\"1\" class=\"dataframe\">\n",
       "  <thead>\n",
       "    <tr style=\"text-align: right;\">\n",
       "      <th></th>\n",
       "      <th>지점</th>\n",
       "      <th>지점명</th>\n",
       "      <th>일시</th>\n",
       "      <th>평균기온(℃)</th>\n",
       "      <th>최저기온(℃)</th>\n",
       "      <th>최고기온(℃)</th>\n",
       "    </tr>\n",
       "  </thead>\n",
       "  <tbody>\n",
       "    <tr>\n",
       "      <th>0</th>\n",
       "      <td>108</td>\n",
       "      <td>서울</td>\n",
       "      <td>1907-10-01</td>\n",
       "      <td>13.5</td>\n",
       "      <td>7.9</td>\n",
       "      <td>20.7</td>\n",
       "    </tr>\n",
       "    <tr>\n",
       "      <th>1</th>\n",
       "      <td>108</td>\n",
       "      <td>서울</td>\n",
       "      <td>1907-10-02</td>\n",
       "      <td>16.2</td>\n",
       "      <td>7.9</td>\n",
       "      <td>22.0</td>\n",
       "    </tr>\n",
       "    <tr>\n",
       "      <th>2</th>\n",
       "      <td>108</td>\n",
       "      <td>서울</td>\n",
       "      <td>1907-10-03</td>\n",
       "      <td>16.2</td>\n",
       "      <td>13.1</td>\n",
       "      <td>21.3</td>\n",
       "    </tr>\n",
       "    <tr>\n",
       "      <th>3</th>\n",
       "      <td>108</td>\n",
       "      <td>서울</td>\n",
       "      <td>1907-10-04</td>\n",
       "      <td>16.5</td>\n",
       "      <td>11.2</td>\n",
       "      <td>22.0</td>\n",
       "    </tr>\n",
       "    <tr>\n",
       "      <th>4</th>\n",
       "      <td>108</td>\n",
       "      <td>서울</td>\n",
       "      <td>1907-10-05</td>\n",
       "      <td>17.6</td>\n",
       "      <td>10.9</td>\n",
       "      <td>25.4</td>\n",
       "    </tr>\n",
       "    <tr>\n",
       "      <th>...</th>\n",
       "      <td>...</td>\n",
       "      <td>...</td>\n",
       "      <td>...</td>\n",
       "      <td>...</td>\n",
       "      <td>...</td>\n",
       "      <td>...</td>\n",
       "    </tr>\n",
       "    <tr>\n",
       "      <th>39921</th>\n",
       "      <td>108</td>\n",
       "      <td>서울</td>\n",
       "      <td>2018-03-24</td>\n",
       "      <td>7.6</td>\n",
       "      <td>4.0</td>\n",
       "      <td>13.1</td>\n",
       "    </tr>\n",
       "    <tr>\n",
       "      <th>39922</th>\n",
       "      <td>108</td>\n",
       "      <td>서울</td>\n",
       "      <td>2018-03-25</td>\n",
       "      <td>9.6</td>\n",
       "      <td>4.6</td>\n",
       "      <td>16.9</td>\n",
       "    </tr>\n",
       "    <tr>\n",
       "      <th>39923</th>\n",
       "      <td>108</td>\n",
       "      <td>서울</td>\n",
       "      <td>2018-03-26</td>\n",
       "      <td>11.0</td>\n",
       "      <td>5.3</td>\n",
       "      <td>18.1</td>\n",
       "    </tr>\n",
       "    <tr>\n",
       "      <th>39924</th>\n",
       "      <td>108</td>\n",
       "      <td>서울</td>\n",
       "      <td>2018-03-27</td>\n",
       "      <td>13.3</td>\n",
       "      <td>7.7</td>\n",
       "      <td>20.0</td>\n",
       "    </tr>\n",
       "    <tr>\n",
       "      <th>39925</th>\n",
       "      <td>108</td>\n",
       "      <td>서울</td>\n",
       "      <td>2018-03-28</td>\n",
       "      <td>14.0</td>\n",
       "      <td>9.4</td>\n",
       "      <td>19.0</td>\n",
       "    </tr>\n",
       "  </tbody>\n",
       "</table>\n",
       "<p>39926 rows × 6 columns</p>\n",
       "</div>"
      ],
      "text/plain": [
       "        지점 지점명          일시  평균기온(℃)  최저기온(℃)  최고기온(℃)\n",
       "0      108  서울  1907-10-01     13.5      7.9     20.7\n",
       "1      108  서울  1907-10-02     16.2      7.9     22.0\n",
       "2      108  서울  1907-10-03     16.2     13.1     21.3\n",
       "3      108  서울  1907-10-04     16.5     11.2     22.0\n",
       "4      108  서울  1907-10-05     17.6     10.9     25.4\n",
       "...    ...  ..         ...      ...      ...      ...\n",
       "39921  108  서울  2018-03-24      7.6      4.0     13.1\n",
       "39922  108  서울  2018-03-25      9.6      4.6     16.9\n",
       "39923  108  서울  2018-03-26     11.0      5.3     18.1\n",
       "39924  108  서울  2018-03-27     13.3      7.7     20.0\n",
       "39925  108  서울  2018-03-28     14.0      9.4     19.0\n",
       "\n",
       "[39926 rows x 6 columns]"
      ]
     },
     "execution_count": 63,
     "metadata": {},
     "output_type": "execute_result"
    }
   ],
   "source": [
    "print(seoul)\n",
    "\n",
    "seoul.to_csv('서울1파일 확인용.csv')\n",
    "\n",
    "seoul.columns\n",
    "seoul.rename(columns={'날짜':'일시'},inplace=True)\n",
    "seoul.columns = ['지점','지점명','일시','평균기온(℃)', '최저기온(℃)', '최고기온(℃)']\n",
    "seoul2.columns = ['지점','지점명','일시','평균기온(℃)', '최저기온(℃)', '최고기온(℃)']\n",
    "seoul3.columns = ['지점','지점명','일시','평균기온(℃)', '최저기온(℃)', '최고기온(℃)']\n",
    "seoul"
   ]
  },
  {
   "cell_type": "code",
   "execution_count": 57,
   "metadata": {},
   "outputs": [
    {
     "name": "stdout",
     "output_type": "stream",
     "text": [
      "       지점 지점명          일시  평균기온(°C)  최저기온(°C)  최고기온(°C)\n",
      "0     108  서울  2018-03-29      15.4      11.8      21.1\n",
      "1     108  서울  2018-03-30      14.8       9.8      21.9\n",
      "2     108  서울  2018-03-31      14.0       9.3      20.1\n",
      "3     108  서울  2018-04-01      15.6      11.7      18.5\n",
      "4     108  서울  2018-04-02      18.4      14.9      23.7\n",
      "...   ...  ..         ...       ...       ...       ...\n",
      "2318  108  서울  2024-08-02      29.6      28.2      32.5\n",
      "2319  108  서울  2024-08-03      30.2      27.2      34.2\n",
      "2320  108  서울  2024-08-04      31.8      27.3      36.2\n",
      "2321  108  서울  2024-08-05      30.0      26.9      33.7\n",
      "2322  108  서울  2024-08-06      29.5      25.6      33.5\n",
      "\n",
      "[2323 rows x 6 columns]\n"
     ]
    },
    {
     "data": {
      "text/plain": [
       "Index(['지점', '지점명', '일시', '평균기온(°C)', '최저기온(°C)', '최고기온(°C)'], dtype='object')"
      ]
     },
     "execution_count": 57,
     "metadata": {},
     "output_type": "execute_result"
    }
   ],
   "source": [
    "print(seoul2)\n",
    "seoul2.columns\n"
   ]
  },
  {
   "cell_type": "code",
   "execution_count": 58,
   "metadata": {},
   "outputs": [
    {
     "name": "stdout",
     "output_type": "stream",
     "text": [
      "    지점 지점명          일시  평균기온(°C)  최저기온(°C)  최고기온(°C)\n",
      "0  108  서울  2024-08-06      29.5      25.6      33.5\n",
      "1  108  서울  2024-08-07      29.6      27.2      33.4\n",
      "2  108  서울  2024-08-08      28.5      26.9      31.6\n",
      "3  108  서울  2024-08-09      29.3      25.6      33.6\n",
      "4  108  서울  2024-08-10      30.0      26.4      33.6\n",
      "5  108  서울  2024-08-11      30.8      27.8      34.4\n"
     ]
    },
    {
     "data": {
      "text/plain": [
       "Index(['지점', '지점명', '일시', '평균기온(°C)', '최저기온(°C)', '최고기온(°C)'], dtype='object')"
      ]
     },
     "execution_count": 58,
     "metadata": {},
     "output_type": "execute_result"
    }
   ],
   "source": [
    "print(seoul3)\n",
    "seoul3.columns"
   ]
  },
  {
   "cell_type": "code",
   "execution_count": 188,
   "metadata": {},
   "outputs": [
    {
     "name": "stdout",
     "output_type": "stream",
     "text": [
      "        지점 지점명          일시  평균기온(℃)  최저기온(℃)  최고기온(℃)\n",
      "0      108  서울  1907-10-01     13.5      7.9     20.7\n",
      "1      108  서울  1907-10-02     16.2      7.9     22.0\n",
      "2      108  서울  1907-10-03     16.2     13.1     21.3\n",
      "3      108  서울  1907-10-04     16.5     11.2     22.0\n",
      "4      108  서울  1907-10-05     17.6     10.9     25.4\n",
      "...    ...  ..         ...      ...      ...      ...\n",
      "42250  108  서울  2024-08-07     29.6     27.2     33.4\n",
      "42251  108  서울  2024-08-08     28.5     26.9     31.6\n",
      "42252  108  서울  2024-08-09     29.3     25.6     33.6\n",
      "42253  108  서울  2024-08-10     30.0     26.4     33.6\n",
      "42254  108  서울  2024-08-11     30.8     27.8     34.4\n",
      "\n",
      "[42255 rows x 6 columns]\n"
     ]
    }
   ],
   "source": [
    "result_data = pd.concat([seoul,seoul2,seoul3],ignore_index=True)\n",
    "print(result_data)\n",
    "result_data.to_csv('날씨정보.csv')\n",
    "\n",
    "# result_data.isna()\n"
   ]
  },
  {
   "cell_type": "code",
   "execution_count": null,
   "metadata": {},
   "outputs": [],
   "source": [
    "# 1. 결측치가 있는 기간이 어떻게 되는가? \n",
    "# 2. 1907~2024 평균 기온이 상승하는가 상승한다면 얼마나 상승했는가\n",
    "# 3. 그래프로 표현해보기(10년단위,20년단위 이런식으로)\n",
    "# 4. 겨울의 최저기온, 여름의 최고기온은 언제인가"
   ]
  },
  {
   "cell_type": "code",
   "execution_count": 194,
   "metadata": {},
   "outputs": [
    {
     "name": "stdout",
     "output_type": "stream",
     "text": [
      "Empty DataFrame\n",
      "Columns: [지점, 지점명, 일시, 평균기온(℃), 최저기온(℃), 최고기온(℃), 연도, 연도별 최고기온]\n",
      "Index: []\n"
     ]
    }
   ],
   "source": [
    "#1. 결측치가 있는 기간은 어떻게 되는가\n",
    "# 결측치가 있는 기간이 True인 행을 찾아서 반환 \n",
    "# 해당 행의 일시를 출력해보자\n",
    "\n",
    "\n",
    "결측치 = result_data.loc[result_data['평균기온(℃)'].isna() == True]\n",
    "print(결측치)\n"
   ]
  },
  {
   "cell_type": "code",
   "execution_count": 191,
   "metadata": {},
   "outputs": [
    {
     "name": "stdout",
     "output_type": "stream",
     "text": [
      "(41496, 6)\n",
      "Empty DataFrame\n",
      "Columns: [지점, 지점명, 일시, 평균기온(℃), 최저기온(℃), 최고기온(℃)]\n",
      "Index: []\n"
     ]
    }
   ],
   "source": [
    "# 2. 1907~2024 평균 기온이 상승하는가 상승한다면 얼마나 상승했는가\n",
    "# 평균기온의 기준이 될 월을 먼저 구하자\n",
    "\n",
    "print(result_data.shape)    #결측치 삭제 전 행의 수 - 42255행\n",
    "#일단 결측치를 없앤다.\n",
    "result_data.dropna(how='any' ,inplace=True) #1개라도 결측치가 있으면 삭제\n",
    "result_data.shape   #행이 줄어든것을 확인할 수 있다(41496행)\n",
    "\n",
    "결측치 = result_data.loc[result_data['평균기온(℃)'].isna() == True]\n",
    "print(결측치)\n"
   ]
  },
  {
   "cell_type": "code",
   "execution_count": 296,
   "metadata": {},
   "outputs": [
    {
     "name": "stdout",
     "output_type": "stream",
     "text": [
      "      연도          일시   연도별 평균기온\n",
      "0   1910  1910-01-01  10.412055\n",
      "1   1920  1920-01-01  11.408470\n",
      "2   1930  1930-01-01  11.793699\n",
      "3   1940  1940-01-01  10.772404\n",
      "4   1960  1960-01-01  12.104645\n",
      "5   1970  1970-01-01  11.421644\n",
      "6   1980  1980-01-01  10.824317\n",
      "7   1990  1990-01-01  12.838904\n",
      "8   2000  2000-01-01  12.713661\n",
      "9   2010  2010-01-01  12.140822\n",
      "10  2020  2020-01-01  13.271858\n"
     ]
    },
    {
     "data": {
      "text/plain": [
       "Text(0, 0.5, '평균기온(℃)')"
      ]
     },
     "execution_count": 296,
     "metadata": {},
     "output_type": "execute_result"
    },
    {
     "data": {
      "image/png": "[encoded data removed]",
      "text/plain": [
       "<Figure size 640x480 with 1 Axes>"
      ]
     },
     "metadata": {},
     "output_type": "display_data"
    }
   ],
   "source": [
    "#지난해 평균기온 열을 만든다\n",
    "#평균기온과 지난해 평균기온을 비교하여 상승률 열을 만든다\n",
    "#상승한 행만 출력하기\n",
    "\n",
    "#연도 변수를 따로 만들어서\n",
    "def split(x):\n",
    "    return x.split('-')[0]\n",
    "    \n",
    "result_data['연도'] = result_data['일시'].apply(split)\n",
    "result_data\n",
    "\n",
    "#---------------------------------------------------------------------------------------------\n",
    "\n",
    "# #2. 결측치 제거한 후 다시 시도~!!! \n",
    "\n",
    "# 연도별 평균기온을 계산하여 연평균 기온 열을 추가\n",
    "result_data['연도별 평균기온'] = result_data.groupby('연도')['평균기온(℃)'].transform('mean')\n",
    "result_data\n",
    "\n",
    "\n",
    "\n",
    "\n",
    "# 연도별 count 갯수가 360개 미만인 연도는 삭제하여 이상치를 최대한 없도록 함\n",
    "day_count = result_data.groupby('연도')['평균기온(℃)'].count()\n",
    "result_data= result_data[result_data['연도'].isin(day_count[day_count >= 360].index)]\n",
    "result_data.reset_index(drop=True)\n",
    "\n",
    "\n",
    "\n",
    "\n",
    "#각 연도별 첫번째 행들을 추출\n",
    "\n",
    "first_year_data = result_data.groupby('연도')[['일시','연도별 평균기온']].min()\n",
    "first_year_data.reset_index(inplace=True)\n",
    "\n",
    "\n",
    "# x축에 값이 너무 많으니 10년 주기로 평균기온 그래프 그리기 \n",
    "\n",
    "filtered_data = first_year_data[first_year_data['연도'].astype(int) % 10 == 0]\n",
    "filtered_data.reset_index(inplace=True,drop=True)\n",
    "print(filtered_data)\n",
    "\n",
    "\n",
    "#그래프 그리기\n",
    "import matplotlib.pyplot as plt\n",
    "\n",
    "plt.plot(filtered_data['연도'], filtered_data['연도별 평균기온'], color = 'pink')\n",
    "plt.title('120년간 평균기온 추세', fontweight = 'bold')\n",
    "plt.xlabel('연도')\n",
    "plt.ylabel('평균기온(℃)')\n",
    "\n",
    "\n",
    "\n",
    "\n",
    "\n"
   ]
  },
  {
   "cell_type": "code",
   "execution_count": null,
   "metadata": {},
   "outputs": [],
   "source": []
  }
 ],
 "metadata": {
  "kernelspec": {
   "display_name": "PythonEx",
   "language": "python",
   "name": "python3"
  },
  "language_info": {
   "codemirror_mode": {
    "name": "ipython",
    "version": 3
   },
   "file_extension": ".py",
   "mimetype": "text/x-python",
   "name": "python",
   "nbconvert_exporter": "python",
   "pygments_lexer": "ipython3",
   "version": "3.10.14"
  }
 },
 "nbformat": 4,
 "nbformat_minor": 2
}
